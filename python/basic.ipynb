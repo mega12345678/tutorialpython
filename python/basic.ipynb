{
 "cells": [
  {
   "cell_type": "code",
   "execution_count": 1,
   "id": "3e44fddb-47ea-40f9-a53c-9db24cc541fc",
   "metadata": {},
   "outputs": [],
   "source": [
    "# BUKA CITRA\n",
    "\n",
    "# Import the Python 3 print function\n",
    "\n",
    "from __future__ import print_function\n",
    "\n",
    "# Import the \"gdal\" submodule from within the \"osgeo\" module\n",
    "\n",
    "from osgeo import gdal "
   ]
  },
  {
   "cell_type": "code",
   "execution_count": 2,
   "id": "1ea4f1fb-9e61-4234-b60a-4e7d88340690",
   "metadata": {},
   "outputs": [],
   "source": [
    "# Open a GDAL dataset\n",
    "\n",
    "dataset = gdal.Open('/home/mega/Documents/tes/stack_2022.tif', gdal.GA_ReadOnly)"
   ]
  },
  {
   "cell_type": "code",
   "execution_count": 3,
   "id": "b73d4338-aca7-47b1-b6c1-313699358622",
   "metadata": {},
   "outputs": [
    {
     "name": "stdout",
     "output_type": "stream",
     "text": [
      "<osgeo.gdal.Dataset; proxy of <Swig Object of type 'GDALDatasetShadow *' at 0x7fe9807d90f0> >\n"
     ]
    }
   ],
   "source": [
    "print(dataset)"
   ]
  },
  {
   "cell_type": "code",
   "execution_count": 4,
   "id": "cbd52578-6690-41d6-8257-44b699da81fa",
   "metadata": {},
   "outputs": [
    {
     "name": "stdout",
     "output_type": "stream",
     "text": [
      "Number of bands in image: 4\n",
      "\n"
     ]
    }
   ],
   "source": [
    "# TENTANG BAND\n",
    "\n",
    "# How many bands does this image have?\n",
    "\n",
    "num_bands = dataset.RasterCount\n",
    "print('Number of bands in image: {n}\\n'.format(n=num_bands))"
   ]
  },
  {
   "cell_type": "code",
   "execution_count": 5,
   "id": "9aaf9bc9-eeca-4ab5-ac1e-4578c2be41ef",
   "metadata": {},
   "outputs": [
    {
     "name": "stdout",
     "output_type": "stream",
     "text": [
      "Image size is: 10980 rows x 10980 columns\n",
      "\n"
     ]
    }
   ],
   "source": [
    "# How many rows and columns?\n",
    "\n",
    "rows = dataset.RasterYSize\n",
    "cols = dataset.RasterXSize\n",
    "print('Image size is: {r} rows x {c} columns\\n'.format(r=rows, c=cols)) "
   ]
  },
  {
   "cell_type": "code",
   "execution_count": 6,
   "id": "09746289-737f-4e8b-aee0-efc030222b2e",
   "metadata": {},
   "outputs": [
    {
     "name": "stdout",
     "output_type": "stream",
     "text": [
      "Raster driver: GTiff\n",
      "\n"
     ]
    }
   ],
   "source": [
    "# What driver was used to open the raster?\n",
    "\n",
    "driver = dataset.GetDriver()\n",
    "print('Raster driver: {d}\\n'.format(d=driver.ShortName))"
   ]
  },
  {
   "cell_type": "code",
   "execution_count": 7,
   "id": "ec77e1e9-a025-49d7-b47f-b0c86a268800",
   "metadata": {},
   "outputs": [
    {
     "name": "stdout",
     "output_type": "stream",
     "text": [
      "Image projection:\n",
      "PROJCS[\"WGS 84 / UTM zone 48S\",GEOGCS[\"WGS 84\",DATUM[\"WGS_1984\",SPHEROID[\"WGS 84\",6378137,298.257223563,AUTHORITY[\"EPSG\",\"7030\"]],AUTHORITY[\"EPSG\",\"6326\"]],PRIMEM[\"Greenwich\",0,AUTHORITY[\"EPSG\",\"8901\"]],UNIT[\"degree\",0.0174532925199433,AUTHORITY[\"EPSG\",\"9122\"]],AUTHORITY[\"EPSG\",\"4326\"]],PROJECTION[\"Transverse_Mercator\"],PARAMETER[\"latitude_of_origin\",0],PARAMETER[\"central_meridian\",105],PARAMETER[\"scale_factor\",0.9996],PARAMETER[\"false_easting\",500000],PARAMETER[\"false_northing\",10000000],UNIT[\"metre\",1,AUTHORITY[\"EPSG\",\"9001\"]],AXIS[\"Easting\",EAST],AXIS[\"Northing\",NORTH],AUTHORITY[\"EPSG\",\"32748\"]]\n",
      "\n"
     ]
    }
   ],
   "source": [
    "# PROYEKSI\n",
    "\n",
    "# What is the raster's projection?\n",
    "\n",
    "proj = dataset.GetProjection()\n",
    "print('Image projection:')\n",
    "print(proj + '\\n')  "
   ]
  },
  {
   "cell_type": "code",
   "execution_count": null,
   "id": "963b27fc-03c6-4569-973b-b275f97cb4dc",
   "metadata": {},
   "outputs": [],
   "source": []
  }
 ],
 "metadata": {
  "kernelspec": {
   "display_name": "Python 3 (ipykernel)",
   "language": "python",
   "name": "python3"
  },
  "language_info": {
   "codemirror_mode": {
    "name": "ipython",
    "version": 3
   },
   "file_extension": ".py",
   "mimetype": "text/x-python",
   "name": "python",
   "nbconvert_exporter": "python",
   "pygments_lexer": "ipython3",
   "version": "3.9.12"
  }
 },
 "nbformat": 4,
 "nbformat_minor": 5
}
